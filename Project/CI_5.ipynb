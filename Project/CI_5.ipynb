{
  "nbformat": 4,
  "nbformat_minor": 0,
  "metadata": {
    "colab": {
      "provenance": []
    },
    "kernelspec": {
      "name": "python3",
      "display_name": "Python 3"
    },
    "language_info": {
      "name": "python"
    }
  },
  "cells": [
    {
      "cell_type": "markdown",
      "source": [
        "#### 1. How does linear regression allow for the estimation of the average treatment effect (ATE) in causal inference studies, and what role does the dummy variable play in this estimation?\n",
        "* Linear regression allows for the estimation of ATE by including a dummy variable representing the treatment. The coefficient of this dummy variable directly estimates the average effect of the treatment on the outcome, assuming other variables are controlled for.\n",
        "\n",
        "#### 2. Why is it necessary to control for potential confounders when using linear regression to estimate causal relationships, and how does including these confounders in the regression model help mitigate bias?\n",
        "* Controlling for potential confounders in linear regression is essential to mitigate bias and estimate causal relationships more accurately. Including confounders helps ensure that the relationship between the treatment and the outcome is not spurious and reflects a more genuine causal effect.\n",
        "\n",
        "#### 3. What is the significance of the \"partialling out\" interpretation in multivariate linear regression, especially in the context of causal inference, and how does it relate to the ceteris paribus condition?\n",
        "* The \"partialling out\" technique in multivariate regression isolates the unique effect of each independent variable while controlling for others. This aligns with the ceteris paribus condition, allowing the estimation of the effect of one variable while holding others constant, critical for causal inference.\n",
        "\n",
        "#### 4. How does randomized control trial (RCT) differ from regression analysis in addressing confounding bias, and why might RCT not always be feasible in real-world research scenarios?\n",
        "* RCT directly addresses confounding by randomly assigning treatments, ensuring equivalent groups. Regression tries to control for confounders statistically, which can be less robust. RCTs are often not feasible in real-world settings due to ethical, practical, or financial constraints.\n",
        "\n",
        "#### 5. Why is the concept of omitted variable bias (OVB) crucial in the context of linear regression for causal inference, and how can causal graphs help in understanding the potential sources of bias in estimating causal effects?\n",
        "* OVB is crucial in regression analysis as it can lead to biased and inconsistent estimates if important variables are excluded. Causal graphs help identify potential sources of OVB by visualizing relationships among variables, aiding in the selection of relevant controls for the regression model."
      ],
      "metadata": {
        "id": "ArFVi2ndcu1y"
      }
    },
    {
      "cell_type": "code",
      "execution_count": 1,
      "metadata": {
        "colab": {
          "base_uri": "https://localhost:8080/",
          "height": 206
        },
        "id": "1_kEGr83ZYiz",
        "outputId": "32592fab-5233-46b8-a00e-3915449a8336"
      },
      "outputs": [
        {
          "output_type": "execute_result",
          "data": {
            "text/plain": [
              "   age        income  education_years  health_index  employed  \\\n",
              "0   56  59544.576625               20     41.978086         1   \n",
              "1   46  36399.189971               15     25.620694         1   \n",
              "2   32  57140.638811               12     61.151371         0   \n",
              "3   60  69554.919026               13      8.159418         0   \n",
              "4   25  53173.805185               12      0.518486         1   \n",
              "\n",
              "   income_post_training  \n",
              "0          63859.398889  \n",
              "1          41897.819055  \n",
              "2          57140.638811  \n",
              "3          69554.919026  \n",
              "4          59951.773773  "
            ],
            "text/html": [
              "\n",
              "  <div id=\"df-a483f18c-c586-4973-9fe7-f145a5d58798\" class=\"colab-df-container\">\n",
              "    <div>\n",
              "<style scoped>\n",
              "    .dataframe tbody tr th:only-of-type {\n",
              "        vertical-align: middle;\n",
              "    }\n",
              "\n",
              "    .dataframe tbody tr th {\n",
              "        vertical-align: top;\n",
              "    }\n",
              "\n",
              "    .dataframe thead th {\n",
              "        text-align: right;\n",
              "    }\n",
              "</style>\n",
              "<table border=\"1\" class=\"dataframe\">\n",
              "  <thead>\n",
              "    <tr style=\"text-align: right;\">\n",
              "      <th></th>\n",
              "      <th>age</th>\n",
              "      <th>income</th>\n",
              "      <th>education_years</th>\n",
              "      <th>health_index</th>\n",
              "      <th>employed</th>\n",
              "      <th>income_post_training</th>\n",
              "    </tr>\n",
              "  </thead>\n",
              "  <tbody>\n",
              "    <tr>\n",
              "      <th>0</th>\n",
              "      <td>56</td>\n",
              "      <td>59544.576625</td>\n",
              "      <td>20</td>\n",
              "      <td>41.978086</td>\n",
              "      <td>1</td>\n",
              "      <td>63859.398889</td>\n",
              "    </tr>\n",
              "    <tr>\n",
              "      <th>1</th>\n",
              "      <td>46</td>\n",
              "      <td>36399.189971</td>\n",
              "      <td>15</td>\n",
              "      <td>25.620694</td>\n",
              "      <td>1</td>\n",
              "      <td>41897.819055</td>\n",
              "    </tr>\n",
              "    <tr>\n",
              "      <th>2</th>\n",
              "      <td>32</td>\n",
              "      <td>57140.638811</td>\n",
              "      <td>12</td>\n",
              "      <td>61.151371</td>\n",
              "      <td>0</td>\n",
              "      <td>57140.638811</td>\n",
              "    </tr>\n",
              "    <tr>\n",
              "      <th>3</th>\n",
              "      <td>60</td>\n",
              "      <td>69554.919026</td>\n",
              "      <td>13</td>\n",
              "      <td>8.159418</td>\n",
              "      <td>0</td>\n",
              "      <td>69554.919026</td>\n",
              "    </tr>\n",
              "    <tr>\n",
              "      <th>4</th>\n",
              "      <td>25</td>\n",
              "      <td>53173.805185</td>\n",
              "      <td>12</td>\n",
              "      <td>0.518486</td>\n",
              "      <td>1</td>\n",
              "      <td>59951.773773</td>\n",
              "    </tr>\n",
              "  </tbody>\n",
              "</table>\n",
              "</div>\n",
              "    <div class=\"colab-df-buttons\">\n",
              "\n",
              "  <div class=\"colab-df-container\">\n",
              "    <button class=\"colab-df-convert\" onclick=\"convertToInteractive('df-a483f18c-c586-4973-9fe7-f145a5d58798')\"\n",
              "            title=\"Convert this dataframe to an interactive table.\"\n",
              "            style=\"display:none;\">\n",
              "\n",
              "  <svg xmlns=\"http://www.w3.org/2000/svg\" height=\"24px\" viewBox=\"0 -960 960 960\">\n",
              "    <path d=\"M120-120v-720h720v720H120Zm60-500h600v-160H180v160Zm220 220h160v-160H400v160Zm0 220h160v-160H400v160ZM180-400h160v-160H180v160Zm440 0h160v-160H620v160ZM180-180h160v-160H180v160Zm440 0h160v-160H620v160Z\"/>\n",
              "  </svg>\n",
              "    </button>\n",
              "\n",
              "  <style>\n",
              "    .colab-df-container {\n",
              "      display:flex;\n",
              "      gap: 12px;\n",
              "    }\n",
              "\n",
              "    .colab-df-convert {\n",
              "      background-color: #E8F0FE;\n",
              "      border: none;\n",
              "      border-radius: 50%;\n",
              "      cursor: pointer;\n",
              "      display: none;\n",
              "      fill: #1967D2;\n",
              "      height: 32px;\n",
              "      padding: 0 0 0 0;\n",
              "      width: 32px;\n",
              "    }\n",
              "\n",
              "    .colab-df-convert:hover {\n",
              "      background-color: #E2EBFA;\n",
              "      box-shadow: 0px 1px 2px rgba(60, 64, 67, 0.3), 0px 1px 3px 1px rgba(60, 64, 67, 0.15);\n",
              "      fill: #174EA6;\n",
              "    }\n",
              "\n",
              "    .colab-df-buttons div {\n",
              "      margin-bottom: 4px;\n",
              "    }\n",
              "\n",
              "    [theme=dark] .colab-df-convert {\n",
              "      background-color: #3B4455;\n",
              "      fill: #D2E3FC;\n",
              "    }\n",
              "\n",
              "    [theme=dark] .colab-df-convert:hover {\n",
              "      background-color: #434B5C;\n",
              "      box-shadow: 0px 1px 3px 1px rgba(0, 0, 0, 0.15);\n",
              "      filter: drop-shadow(0px 1px 2px rgba(0, 0, 0, 0.3));\n",
              "      fill: #FFFFFF;\n",
              "    }\n",
              "  </style>\n",
              "\n",
              "    <script>\n",
              "      const buttonEl =\n",
              "        document.querySelector('#df-a483f18c-c586-4973-9fe7-f145a5d58798 button.colab-df-convert');\n",
              "      buttonEl.style.display =\n",
              "        google.colab.kernel.accessAllowed ? 'block' : 'none';\n",
              "\n",
              "      async function convertToInteractive(key) {\n",
              "        const element = document.querySelector('#df-a483f18c-c586-4973-9fe7-f145a5d58798');\n",
              "        const dataTable =\n",
              "          await google.colab.kernel.invokeFunction('convertToInteractive',\n",
              "                                                    [key], {});\n",
              "        if (!dataTable) return;\n",
              "\n",
              "        const docLinkHtml = 'Like what you see? Visit the ' +\n",
              "          '<a target=\"_blank\" href=https://colab.research.google.com/notebooks/data_table.ipynb>data table notebook</a>'\n",
              "          + ' to learn more about interactive tables.';\n",
              "        element.innerHTML = '';\n",
              "        dataTable['output_type'] = 'display_data';\n",
              "        await google.colab.output.renderOutput(dataTable, element);\n",
              "        const docLink = document.createElement('div');\n",
              "        docLink.innerHTML = docLinkHtml;\n",
              "        element.appendChild(docLink);\n",
              "      }\n",
              "    </script>\n",
              "  </div>\n",
              "\n",
              "\n",
              "<div id=\"df-60d34782-43ac-4937-9c68-ecc9e9a2f9e7\">\n",
              "  <button class=\"colab-df-quickchart\" onclick=\"quickchart('df-60d34782-43ac-4937-9c68-ecc9e9a2f9e7')\"\n",
              "            title=\"Suggest charts\"\n",
              "            style=\"display:none;\">\n",
              "\n",
              "<svg xmlns=\"http://www.w3.org/2000/svg\" height=\"24px\"viewBox=\"0 0 24 24\"\n",
              "     width=\"24px\">\n",
              "    <g>\n",
              "        <path d=\"M19 3H5c-1.1 0-2 .9-2 2v14c0 1.1.9 2 2 2h14c1.1 0 2-.9 2-2V5c0-1.1-.9-2-2-2zM9 17H7v-7h2v7zm4 0h-2V7h2v10zm4 0h-2v-4h2v4z\"/>\n",
              "    </g>\n",
              "</svg>\n",
              "  </button>\n",
              "\n",
              "<style>\n",
              "  .colab-df-quickchart {\n",
              "      --bg-color: #E8F0FE;\n",
              "      --fill-color: #1967D2;\n",
              "      --hover-bg-color: #E2EBFA;\n",
              "      --hover-fill-color: #174EA6;\n",
              "      --disabled-fill-color: #AAA;\n",
              "      --disabled-bg-color: #DDD;\n",
              "  }\n",
              "\n",
              "  [theme=dark] .colab-df-quickchart {\n",
              "      --bg-color: #3B4455;\n",
              "      --fill-color: #D2E3FC;\n",
              "      --hover-bg-color: #434B5C;\n",
              "      --hover-fill-color: #FFFFFF;\n",
              "      --disabled-bg-color: #3B4455;\n",
              "      --disabled-fill-color: #666;\n",
              "  }\n",
              "\n",
              "  .colab-df-quickchart {\n",
              "    background-color: var(--bg-color);\n",
              "    border: none;\n",
              "    border-radius: 50%;\n",
              "    cursor: pointer;\n",
              "    display: none;\n",
              "    fill: var(--fill-color);\n",
              "    height: 32px;\n",
              "    padding: 0;\n",
              "    width: 32px;\n",
              "  }\n",
              "\n",
              "  .colab-df-quickchart:hover {\n",
              "    background-color: var(--hover-bg-color);\n",
              "    box-shadow: 0 1px 2px rgba(60, 64, 67, 0.3), 0 1px 3px 1px rgba(60, 64, 67, 0.15);\n",
              "    fill: var(--button-hover-fill-color);\n",
              "  }\n",
              "\n",
              "  .colab-df-quickchart-complete:disabled,\n",
              "  .colab-df-quickchart-complete:disabled:hover {\n",
              "    background-color: var(--disabled-bg-color);\n",
              "    fill: var(--disabled-fill-color);\n",
              "    box-shadow: none;\n",
              "  }\n",
              "\n",
              "  .colab-df-spinner {\n",
              "    border: 2px solid var(--fill-color);\n",
              "    border-color: transparent;\n",
              "    border-bottom-color: var(--fill-color);\n",
              "    animation:\n",
              "      spin 1s steps(1) infinite;\n",
              "  }\n",
              "\n",
              "  @keyframes spin {\n",
              "    0% {\n",
              "      border-color: transparent;\n",
              "      border-bottom-color: var(--fill-color);\n",
              "      border-left-color: var(--fill-color);\n",
              "    }\n",
              "    20% {\n",
              "      border-color: transparent;\n",
              "      border-left-color: var(--fill-color);\n",
              "      border-top-color: var(--fill-color);\n",
              "    }\n",
              "    30% {\n",
              "      border-color: transparent;\n",
              "      border-left-color: var(--fill-color);\n",
              "      border-top-color: var(--fill-color);\n",
              "      border-right-color: var(--fill-color);\n",
              "    }\n",
              "    40% {\n",
              "      border-color: transparent;\n",
              "      border-right-color: var(--fill-color);\n",
              "      border-top-color: var(--fill-color);\n",
              "    }\n",
              "    60% {\n",
              "      border-color: transparent;\n",
              "      border-right-color: var(--fill-color);\n",
              "    }\n",
              "    80% {\n",
              "      border-color: transparent;\n",
              "      border-right-color: var(--fill-color);\n",
              "      border-bottom-color: var(--fill-color);\n",
              "    }\n",
              "    90% {\n",
              "      border-color: transparent;\n",
              "      border-bottom-color: var(--fill-color);\n",
              "    }\n",
              "  }\n",
              "</style>\n",
              "\n",
              "  <script>\n",
              "    async function quickchart(key) {\n",
              "      const quickchartButtonEl =\n",
              "        document.querySelector('#' + key + ' button');\n",
              "      quickchartButtonEl.disabled = true;  // To prevent multiple clicks.\n",
              "      quickchartButtonEl.classList.add('colab-df-spinner');\n",
              "      try {\n",
              "        const charts = await google.colab.kernel.invokeFunction(\n",
              "            'suggestCharts', [key], {});\n",
              "      } catch (error) {\n",
              "        console.error('Error during call to suggestCharts:', error);\n",
              "      }\n",
              "      quickchartButtonEl.classList.remove('colab-df-spinner');\n",
              "      quickchartButtonEl.classList.add('colab-df-quickchart-complete');\n",
              "    }\n",
              "    (() => {\n",
              "      let quickchartButtonEl =\n",
              "        document.querySelector('#df-60d34782-43ac-4937-9c68-ecc9e9a2f9e7 button');\n",
              "      quickchartButtonEl.style.display =\n",
              "        google.colab.kernel.accessAllowed ? 'block' : 'none';\n",
              "    })();\n",
              "  </script>\n",
              "</div>\n",
              "\n",
              "    </div>\n",
              "  </div>\n"
            ],
            "application/vnd.google.colaboratory.intrinsic+json": {
              "type": "dataframe",
              "variable_name": "data",
              "summary": "{\n  \"name\": \"data\",\n  \"rows\": 100,\n  \"fields\": [\n    {\n      \"column\": \"age\",\n      \"properties\": {\n        \"dtype\": \"number\",\n        \"std\": 13,\n        \"min\": 18,\n        \"max\": 64,\n        \"num_unique_values\": 43,\n        \"samples\": [\n          51,\n          33,\n          64\n        ],\n        \"semantic_type\": \"\",\n        \"description\": \"\"\n      }\n    },\n    {\n      \"column\": \"income\",\n      \"properties\": {\n        \"dtype\": \"number\",\n        \"std\": 14965.842085107324,\n        \"min\": 20901.33172095135,\n        \"max\": 94154.95124721926,\n        \"num_unique_values\": 100,\n        \"samples\": [\n          56472.34194894563,\n          42293.187627376305,\n          38560.59553677273\n        ],\n        \"semantic_type\": \"\",\n        \"description\": \"\"\n      }\n    },\n    {\n      \"column\": \"education_years\",\n      \"properties\": {\n        \"dtype\": \"number\",\n        \"std\": 2,\n        \"min\": 12,\n        \"max\": 20,\n        \"num_unique_values\": 9,\n        \"samples\": [\n          19,\n          15,\n          18\n        ],\n        \"semantic_type\": \"\",\n        \"description\": \"\"\n      }\n    },\n    {\n      \"column\": \"health_index\",\n      \"properties\": {\n        \"dtype\": \"number\",\n        \"std\": 30.521214355918676,\n        \"min\": 0.5184862773986776,\n        \"max\": 98.1840888310531,\n        \"num_unique_values\": 100,\n        \"samples\": [\n          61.585116438991385,\n          63.82705938433504,\n          80.69129770507794\n        ],\n        \"semantic_type\": \"\",\n        \"description\": \"\"\n      }\n    },\n    {\n      \"column\": \"employed\",\n      \"properties\": {\n        \"dtype\": \"number\",\n        \"std\": 0,\n        \"min\": 0,\n        \"max\": 1,\n        \"num_unique_values\": 2,\n        \"samples\": [\n          0,\n          1\n        ],\n        \"semantic_type\": \"\",\n        \"description\": \"\"\n      }\n    },\n    {\n      \"column\": \"income_post_training\",\n      \"properties\": {\n        \"dtype\": \"number\",\n        \"std\": 15123.437723507617,\n        \"min\": 20901.33172095135,\n        \"max\": 97220.72913801733,\n        \"num_unique_values\": 100,\n        \"samples\": [\n          61922.81265455684,\n          42293.187627376305\n        ],\n        \"semantic_type\": \"\",\n        \"description\": \"\"\n      }\n    }\n  ]\n}"
            }
          },
          "metadata": {},
          "execution_count": 1
        }
      ],
      "source": [
        "import pandas as pd\n",
        "import numpy as np\n",
        "\n",
        "np.random.seed(42)\n",
        "\n",
        "\n",
        "data = pd.DataFrame({\n",
        "    'age': np.random.randint(18, 65, size=100),  # Age of individuals\n",
        "    'income': np.random.normal(50000, 15000, size=100),  # Annual income with some variation\n",
        "    'education_years': np.random.randint(12, 21, size=100),  # Years of education\n",
        "    'health_index': np.random.uniform(0, 1, size=100) * 100,  # Health index from 0 to 100\n",
        "    'employed': np.random.choice([0, 1], size=100)  # Employment status (0 = unemployed, 1 = employed)\n",
        "})\n",
        "\n",
        "data['income_post_training'] = data['income'] + np.where(data['employed'] == 1, np.random.normal(5000, 2000, size=100), 0)\n",
        "\n",
        "data.head()"
      ]
    },
    {
      "cell_type": "code",
      "source": [
        "# Calculate the Average Treatment Effect (ATE) of the training program on income.\n",
        "data['income_change'] = data['income_post_training'] - data['income']\n",
        "ATE = data['income_change'].mean()\n",
        "print(f\"Average Treatment Effect (ATE): {ATE}\")"
      ],
      "metadata": {
        "colab": {
          "base_uri": "https://localhost:8080/"
        },
        "id": "hGykajO5a_C2",
        "outputId": "58d0cc36-115c-4286-ddd9-b5c01abff25d"
      },
      "execution_count": 9,
      "outputs": [
        {
          "output_type": "stream",
          "name": "stdout",
          "text": [
            "Average Treatment Effect (ATE): 2031.2960155456576\n"
          ]
        }
      ]
    },
    {
      "cell_type": "code",
      "source": [
        "# What is the average income for those who were employed vs. those who were not?\n",
        "average_income_employed = data[data['employed'] == 1]['income'].mean()\n",
        "average_income_unemployed = data[data['employed'] == 0]['income'].mean()\n",
        "\n",
        "print(f\"Average Income for Employed: {average_income_employed}\")\n",
        "print(f\"Average Income for Unemployed: {average_income_unemployed}\")"
      ],
      "metadata": {
        "colab": {
          "base_uri": "https://localhost:8080/"
        },
        "id": "443wKRE7bFcI",
        "outputId": "8df212af-ab4f-4afa-d905-72c4db78d741"
      },
      "execution_count": 3,
      "outputs": [
        {
          "output_type": "stream",
          "name": "stdout",
          "text": [
            "Average Income for Employed: 49844.36398365272\n",
            "Average Income for Unemployed: 51957.36250416066\n"
          ]
        }
      ]
    },
    {
      "cell_type": "code",
      "source": [
        "# Does higher education correlate with higher income in this dataset?\n",
        "correlation_education_income = data['education_years'].corr(data['income'])\n",
        "correlation_education_income"
      ],
      "metadata": {
        "colab": {
          "base_uri": "https://localhost:8080/"
        },
        "id": "ZemH56YebMWy",
        "outputId": "eb17a3ff-7146-4cc1-c8f6-c8c76f60bc0b"
      },
      "execution_count": 5,
      "outputs": [
        {
          "output_type": "execute_result",
          "data": {
            "text/plain": [
              "0.0733377547304343"
            ]
          },
          "metadata": {},
          "execution_count": 5
        }
      ]
    },
    {
      "cell_type": "code",
      "source": [
        "# Is there a significant difference in the health index between employed and unemployed individuals?\n",
        "average_health_employed = data[data['employed'] == 1]['health_index'].mean()\n",
        "average_health_unemployed = data[data['employed'] == 0]['health_index'].mean()\n",
        "\n",
        "health_index_difference = average_health_employed - average_health_unemployed\n",
        "print(f\"Health Index Difference: {health_index_difference}\")"
      ],
      "metadata": {
        "colab": {
          "base_uri": "https://localhost:8080/"
        },
        "id": "FZIl0xnabQMU",
        "outputId": "fbb0cd74-5ae8-4104-e55a-18789ff6ff32"
      },
      "execution_count": 6,
      "outputs": [
        {
          "output_type": "stream",
          "name": "stdout",
          "text": [
            "Health Index Difference: -9.723033033929681\n"
          ]
        }
      ]
    },
    {
      "cell_type": "code",
      "source": [
        "# Predict post-training income using a linear regression model with 'age',\n",
        "#'education_years', 'health_index', and 'employed' as predictors.\n",
        "#What is the coefficient for 'employed', and how does it relate to the ATE calculated in question 1?\n",
        "\n",
        "from sklearn.linear_model import LinearRegression\n",
        "\n",
        "features = ['age', 'education_years', 'health_index', 'employed']\n",
        "target = 'income_post_training'\n",
        "\n",
        "model = LinearRegression()\n",
        "model.fit(data[features], data[target])\n",
        "\n",
        "coefficients = model.coef_\n",
        "employed_coefficient = coefficients[features.index('employed')]\n",
        "print(f\"Coefficient for 'employed': {employed_coefficient}\")"
      ],
      "metadata": {
        "colab": {
          "base_uri": "https://localhost:8080/"
        },
        "id": "RilKkJI-bcn2",
        "outputId": "8dbfc218-c283-4fd6-af2f-7a71886c804b"
      },
      "execution_count": 8,
      "outputs": [
        {
          "output_type": "stream",
          "name": "stdout",
          "text": [
            "Coefficient for 'employed': 1905.3979115265333\n"
          ]
        }
      ]
    }
  ]
}